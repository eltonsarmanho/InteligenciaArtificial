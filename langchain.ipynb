{
 "cells": [
  {
   "cell_type": "markdown",
   "metadata": {},
   "source": [
    "# Aula 1: Estrutura Básica do LangChain\n"
   ]
  },
  {
   "cell_type": "markdown",
   "metadata": {},
   "source": [
    "\n",
    "### **Passo 1. Instalação das Dependências**\n",
    "   Primeiro, certifique-se de que você tem o LangChain instalado. Você pode instalá-lo usando pip:"
   ]
  },
  {
   "cell_type": "code",
   "execution_count": null,
   "metadata": {},
   "outputs": [],
   "source": [
    "pip install langchain langchain-community python-dotenv openai"
   ]
  },
  {
   "cell_type": "markdown",
   "metadata": {},
   "source": [
    "### **Passo 2: Configurar a Chave da API**\n",
    "\n",
    "1. **Obtenha sua chave da API:**\n",
    "\n",
    "   - **OpenAI**: Acesse o [site da OpenAI](https://platform.openai.com/account/api-keys) e gere sua chave da API. Certifique-se de copiá-la e armazená-la em local seguro, pois você não poderá visualizá-la novamente.\n",
    "   - **Gemini**: Acesse o [AI Studio da Google](https://aistudio.google.com/app/apikey), faça login com sua conta Google e siga as instruções para gerar a chave de acesso à API Gemini.\n",
    "   - **DeepSeek**: Vá até o [site oficial da DeepSeek](https://www.deepseek.com/), faça login e gere sua chave da API no painel de configurações.\n",
    "\n",
    "2. **Armazene sua chave em um arquivo `.env`:**\n",
    "\n",
    "   Crie ou edite um arquivo chamado `.env` no diretório do seu projeto e adicione as chaves obtidas, seguindo o formato abaixo:\n",
    "\n",
    "   ```plaintext\n",
    "   OPENAI_API_KEY=your_openai_api_key_here\n",
    "   ```\n",
    "\n",
    "3. **Carregue as chaves no seu código:**\n",
    "\n",
    "   Use uma biblioteca como `python-dotenv` para carregar as variáveis de ambiente no seu programa:\n",
    "\n",
    "   ```python\n",
    "   from dotenv import load_dotenv\n",
    "   import os\n",
    "\n",
    "   # Carregar as variáveis do arquivo .env\n",
    "   load_dotenv()\n",
    "\n",
    "\n",
    "\n"
   ]
  },
  {
   "cell_type": "markdown",
   "metadata": {},
   "source": [
    "### **Passo 3: Chamando um LLM com `invoke`**\n",
    "\n",
    "\n",
    "O método `invoke` é usado para enviar uma entrada ao LLM e receber uma resposta completa."
   ]
  },
  {
   "cell_type": "code",
   "execution_count": null,
   "metadata": {},
   "outputs": [],
   "source": [
    "from langchain.llms import OpenAI\n",
    "from dotenv import load_dotenv\n",
    "import os\n",
    "\n",
    "# Carregar as variáveis do arquivo .env\n",
    "load_dotenv()\n",
    "\n",
    "# Obter as chaves das APIs\n",
    "openai_api_key = os.getenv(\"OPENAI_API_KEY\")\n",
    "gemini_api_key = os.getenv(\"GOOGLE_API_KEY\")\n",
    "deepseek_api_key = os.getenv(\"DEEPSEEK_API_KEY\")\n",
    "\n",
    "# Certifique-se de que as chaves foram carregadas\n",
    "if not all([openai_api_key, gemini_api_key, deepseek_api_key]):\n",
    "    raise ValueError(\"Uma ou mais chaves de API não foram configuradas corretamente.\")\n",
    "\n",
    "# Inicializando um LLM \n",
    "llm = OpenAI(api_key=openai_api_key)\n",
    "\n",
    "# Chamando o LLM com uma entrada\n",
    "resposta = llm.invoke(\"Explique o que é um LLM.\")\n",
    "print(resposta)"
   ]
  },
  {
   "cell_type": "markdown",
   "metadata": {},
   "source": [
    "### **Passo 3.1: Chamando um LLM com `invoke` com Gemini**\n",
    "\n",
    "\n",
    "O método `invoke` é usado para enviar uma entrada ao LLM e receber uma resposta completa."
   ]
  },
  {
   "cell_type": "code",
   "execution_count": null,
   "metadata": {},
   "outputs": [],
   "source": [
    "import os\n",
    "from langchain_core.messages import HumanMessage\n",
    "\n",
    "# Set cache to save results to memory\n",
    "from langchain_google_genai import ChatGoogleGenerativeAI\n",
    "# Carregar as variáveis do arquivo .env\n",
    "load_dotenv()\n",
    "\n",
    "# Obter as chaves das APIs\n",
    "gemini_api_key = os.getenv(\"GOOGLE_API_KEY\")\n",
    "\n",
    "\n",
    "# Correctly initialize the ChatGoogleGenerativeAI model\n",
    "llm = ChatGoogleGenerativeAI(model=\"gemini-1.5-flash\", google_api_key=gemini_api_key, top_p=0.30)\n",
    "\n",
    "# Prepare the input messages\n",
    "input_messages = [\n",
    "    HumanMessage(content=\"Quem é o presidente do Brasil?\")\n",
    "]\n",
    "\n",
    "# Use the model\n",
    "response = llm.invoke(input_messages)\n",
    "print(response.content)"
   ]
  },
  {
   "cell_type": "markdown",
   "metadata": {},
   "source": [
    "### **Passo 3.2: Chamando um LLM com `invoke` com Deepseek**\n",
    "\n",
    "\n",
    "O método `invoke` é usado para enviar uma entrada ao LLM e receber uma resposta completa."
   ]
  },
  {
   "cell_type": "code",
   "execution_count": null,
   "metadata": {},
   "outputs": [],
   "source": [
    "import os\n",
    "from langchain_community.chat_models import ChatOpenAI\n",
    "from dotenv import load_dotenv\n",
    "\n",
    "load_dotenv()  # Carrega a chave do .env\n",
    "\n",
    "# Configuração do DeepSeek\n",
    "llm = ChatOpenAI(\n",
    "    openai_api_key=os.getenv(\"DEEPSEEK_API_KEY\"),\n",
    "    model=\"deepseek-chat\",  # ou \"deepseek-reasoner\"\n",
    "    openai_api_base=\"https://api.deepseek.com/v1\",  # Endpoint da API\n",
    "     \n",
    ")\n",
    "\n",
    "# Exemplo de uso\n",
    "response = llm.invoke(\"Quem é o presidente do Brasil?\")\n",
    "print(response.content)"
   ]
  },
  {
   "cell_type": "markdown",
   "metadata": {},
   "source": [
    "### **Passo 3.3: Chamando um LLM com `invoke` com Maritalk**\n",
    "\n",
    "\n",
    "O método `invoke` é usado para enviar uma entrada ao LLM e receber uma resposta completa."
   ]
  },
  {
   "cell_type": "code",
   "execution_count": null,
   "metadata": {},
   "outputs": [],
   "source": [
    "from langchain_community.chat_models import ChatMaritalk\n",
    "from langchain_core.output_parsers import StrOutputParser\n",
    "from langchain_core.prompts.chat import ChatPromptTemplate\n",
    "from dotenv import load_dotenv\n",
    "import os\n",
    "\n",
    "load_dotenv()  # Carrega a chave do .env\n",
    "\n",
    "\n",
    "llm = ChatMaritalk(\n",
    "    model=\"sabia-3\",  # Available models: sabia-3\n",
    "    api_key=os.getenv(\"MARITALK_API_KEY\"),  # Insert your API key here\n",
    "    temperature=0.7,\n",
    "    max_tokens=100,\n",
    ")\n",
    "\n",
    "output_parser = StrOutputParser()\n",
    "\n",
    "chat_prompt = ChatPromptTemplate.from_messages(\n",
    "    [\n",
    "        (\n",
    "            \"system\",\n",
    "            \"você é um assistente especializado em sugestão de nome de pets. Dado animal, você deve sugerir 3 nomes.\",\n",
    "        ),\n",
    "        (\"human\", \"Eu tenho um {animal}\"),\n",
    "    ]\n",
    ")\n",
    "\n",
    "chain = chat_prompt | llm | output_parser\n",
    "\n",
    "response = chain.invoke({\"animal\": \"cão\"})\n",
    "print(response)  # should answer something like \"1. Max\\n2. Bella\\n3. Charlie\\n4. Rocky\""
   ]
  },
  {
   "cell_type": "markdown",
   "metadata": {},
   "source": [
    "## 4. Stream de Respostas com `stream`\n",
    "\n",
    "O método `stream` permite receber a resposta do LLM em partes (streaming), útil para respostas longas ou para exibir a resposta em tempo real."
   ]
  },
  {
   "cell_type": "code",
   "execution_count": null,
   "metadata": {},
   "outputs": [],
   "source": [
    "# Usando stream para receber a resposta em partes\n",
    "for chunk in llm.stream(\"Explique a teoria da relatividade.\"):\n",
    "    print(chunk, end=\"\", flush=True)"
   ]
  },
  {
   "cell_type": "markdown",
   "metadata": {},
   "source": [
    "## 5. O que são ChatModels?\n",
    "\n",
    "ChatModels são modelos de linguagem projetados para interações em formato de chat, onde a conversa é mantida em um contexto de mensagens (histórico)."
   ]
  },
  {
   "cell_type": "code",
   "execution_count": null,
   "metadata": {},
   "outputs": [],
   "source": [
    "from langchain.chat_models import ChatOpenAI\n",
    "from langchain.schema import HumanMessage, SystemMessage\n",
    "\n",
    "# Inicializando um ChatModel\n",
    "chat = ChatOpenAI(api_key=os.getenv(\"OPENAI_API_KEY\"))\n",
    "\n",
    "# Criando uma conversa\n",
    "mensagens = [\n",
    "    SystemMessage(content=\"Você é um assistente útil.\"),\n",
    "    HumanMessage(content=\"Quem descobriu a penicilina?\")\n",
    "]\n",
    "\n",
    "# Chamando o ChatModel\n",
    "resposta = chat.invoke(mensagens)\n",
    "print(resposta.content)"
   ]
  },
  {
   "cell_type": "markdown",
   "metadata": {},
   "source": [
    "## 6. Exemplo Completo: Integrando LLM e ChatModel\n",
    "\n",
    "Vamos criar um exemplo completo que usa tanto LLM quanto ChatModel."
   ]
  },
  {
   "cell_type": "code",
   "execution_count": null,
   "metadata": {},
   "outputs": [],
   "source": [
    "from langchain.llms import OpenAI\n",
    "from langchain.chat_models import ChatOpenAI\n",
    "from langchain.schema import HumanMessage, SystemMessage\n",
    "\n",
    "# Inicializando LLM e ChatModel\n",
    "llm = OpenAI(api_key=openai_api_key)\n",
    "chat = ChatOpenAI(api_key=openai_api_key)\n",
    "\n",
    "# Usando LLM com invoke\n",
    "resposta_llm = llm.invoke(\"Explique o que é inteligência artificial.\")\n",
    "print(\"Resposta do LLM:\", resposta_llm)\n",
    "\n",
    "# Usando ChatModel com invoke\n",
    "mensagens = [\n",
    "    SystemMessage(content=\"Você é um assistente especializado em ciência.\"),\n",
    "    HumanMessage(content=\"Quem foi Marie Curie?\")\n",
    "]\n",
    "resposta_chat = chat.invoke(mensagens)\n",
    "print(\"Resposta do ChatModel:\", resposta_chat.content)\n",
    "\n",
    "# Usando stream com LLM\n",
    "print(\"Streaming da resposta do LLM:\")\n",
    "for chunk in llm.stream(\"Descreva o sistema solar.\"):\n",
    "    print(chunk, end=\"\", flush=True)"
   ]
  },
  {
   "cell_type": "markdown",
   "metadata": {},
   "source": [
    "# Aula 2: Trabalhando com Prompts no LangChain\n",
    "\n",
    "Nesta segunda aula, vamos explorar o uso de **Prompt Templates** no LangChain. Vamos cobrir:\n",
    "\n",
    "1. **Prompt Templates**: Como criar e usar templates de prompts.\n",
    "2. **Composing Prompts**: Como combinar múltiplos prompts.\n",
    "3. **Templates para Chat**: Como criar templates para interações em formato de chat.\n",
    "4. **Templates de Few-shot para LLMs**: Como usar exemplos para guiar a geração de texto.\n",
    "5. **Templates de Few-shot para Chat**: Como aplicar few-shot learning em modelos de chat."
   ]
  },
  {
   "cell_type": "markdown",
   "metadata": {},
   "source": [
    "## 1. O que são Prompt Templates?\n",
    "\n",
    "Prompt Templates são modelos pré-definidos que ajudam a estruturar a entrada para um LLM. Eles permitem que você crie prompts dinâmicos, reutilizáveis e adaptáveis."
   ]
  },
  {
   "cell_type": "code",
   "execution_count": null,
   "metadata": {},
   "outputs": [],
   "source": [
    "from langchain.prompts import PromptTemplate\n",
    "\n",
    "# Criando um Prompt Template\n",
    "template = \"Explique o conceito de {conceito} em {nivel} palavras.\"\n",
    "prompt = PromptTemplate(\n",
    "    input_variables=[\"conceito\", \"nivel\"],\n",
    "    template=template\n",
    ")\n",
    "\n",
    "# Preenchendo o template\n",
    "prompt_formatado = prompt.format(conceito=\"inteligência artificial\", nivel=\"50\")\n",
    "print(prompt_formatado)"
   ]
  },
  {
   "cell_type": "markdown",
   "metadata": {},
   "source": [
    "## 2. Composing Prompts\n",
    "\n",
    "Você pode combinar múltiplos prompts para criar fluxos de trabalho mais complexos. Isso é útil quando você precisa de várias etapas para gerar uma resposta."
   ]
  },
  {
   "cell_type": "code",
   "execution_count": null,
   "metadata": {},
   "outputs": [],
   "source": [
    "from langchain.prompts import PromptTemplate\n",
    "\n",
    "# Criando dois prompts\n",
    "template1 = \"Descreva o conceito de {conceito}.\"\n",
    "template2 = \"Agora, explique como {conceito} é aplicado em {area}.\"\n",
    "\n",
    "prompt1 = PromptTemplate(input_variables=[\"conceito\"], template=template1)\n",
    "prompt2 = PromptTemplate(input_variables=[\"conceito\", \"area\"], template=template2)\n",
    "\n",
    "# Combinando os prompts\n",
    "descricao = prompt1.format(conceito=\"machine learning\")\n",
    "aplicacao = prompt2.format(conceito=\"machine learning\", area=\"medicina\")\n",
    "\n",
    "print(descricao)\n",
    "print(aplicacao)\n",
    "\n",
    "template_final = (descricao+aplicacao)\n",
    "\n"
   ]
  },
  {
   "cell_type": "code",
   "execution_count": null,
   "metadata": {},
   "outputs": [],
   "source": [
    "llm.invoke(template_final)"
   ]
  },
  {
   "cell_type": "markdown",
   "metadata": {},
   "source": [
    "\n",
    "## 3. Templates para Chat\n",
    "\n",
    "Templates para Chat são usados para criar interações em formato de chat, onde o histórico de mensagens é mantido."
   ]
  },
  {
   "cell_type": "code",
   "execution_count": null,
   "metadata": {},
   "outputs": [],
   "source": [
    "from langchain.prompts import ChatPromptTemplate\n",
    "from langchain.schema import HumanMessage, SystemMessage\n",
    "\n",
    "# Criando um template para chat\n",
    "template = ChatPromptTemplate.from_messages([\n",
    "    SystemMessage(content=\"Você é um assistente útil.\"),    \n",
    "    (\"human\", \"Explique o que é {conceito}.\")\n",
    "])\n",
    "\n",
    "# Preenchendo o template\n",
    "template_final = template.format_messages(conceito=\"blockchain\")\n",
    "print(template_final)\n"
   ]
  },
  {
   "cell_type": "markdown",
   "metadata": {},
   "source": [
    "## 4. Templates de Few-shot para LLMs\n",
    "\n",
    "Few-shot learning envolve fornecer alguns exemplos ao modelo para guiar sua geração de texto."
   ]
  },
  {
   "cell_type": "code",
   "execution_count": null,
   "metadata": {},
   "outputs": [],
   "source": [
    "from langchain.prompts import FewShotPromptTemplate, PromptTemplate\n",
    "\n",
    "# Exemplos para few-shot learning\n",
    "exemplos = [\n",
    "    {\"pergunta\": \"O que é um átomo?\", \"resposta\": \"Um átomo é a unidade básica da matéria.\"},\n",
    "    {\"pergunta\": \"O que é uma célula?\", \"resposta\": \"Uma célula é a unidade básica da vida.\"}\n",
    "]\n",
    "\n",
    "# Template para cada exemplo\n",
    "exemplo_template = PromptTemplate(\n",
    "    input_variables=[\"pergunta\", \"resposta\"],\n",
    "    template=\"Pergunta: {pergunta}\\nResposta: {resposta}\"\n",
    ")\n",
    "\n",
    "# Criando o Few-shot Prompt Template\n",
    "few_shot_template = FewShotPromptTemplate(\n",
    "    examples=exemplos,\n",
    "    example_prompt=exemplo_template,\n",
    "    prefix=\"Responda as perguntas seguindo os exemplos:\",\n",
    "    suffix=\"Pergunta: {pergunta}\\nResposta:\",\n",
    "    input_variables=[\"pergunta\"]\n",
    ")\n",
    "\n",
    "# Preenchendo o template\n",
    "prompt = few_shot_template.format(pergunta=\"O que é um gene?\")\n",
    "print(prompt)\n",
    "\n"
   ]
  },
  {
   "cell_type": "markdown",
   "metadata": {},
   "source": [
    "## 5. Templates de Few-shot para Chat\n",
    "\n",
    "Few-shot learning também pode ser aplicado em modelos de chat, fornecendo exemplos de interações."
   ]
  },
  {
   "cell_type": "code",
   "execution_count": null,
   "metadata": {},
   "outputs": [],
   "source": [
    "from langchain.prompts import ChatPromptTemplate, FewShotChatMessagePromptTemplate\n",
    "\n",
    "# Exemplos para few-shot learning\n",
    "exemplos = [\n",
    "    {\"input\": \"O que é um átomo?\", \"output\": \"Um átomo é a unidade básica da matéria.\"},\n",
    "    {\"input\": \"O que é uma célula?\", \"output\": \"Uma célula é a unidade básica da vida.\"}\n",
    "]\n",
    "\n",
    "# Template para cada exemplo\n",
    "exemplo_template = ChatPromptTemplate.from_messages([\n",
    "    (\"human\", \"{input}\"),\n",
    "    (\"ai\", \"{output}\")\n",
    "])\n",
    "\n",
    "# Criando o Few-shot Chat Template\n",
    "few_shot_chat_template = FewShotChatMessagePromptTemplate(\n",
    "    example_prompt=exemplo_template,\n",
    "    examples=exemplos\n",
    ")\n",
    "\n",
    "# Combinando com um template de chat\n",
    "final_template = ChatPromptTemplate.from_messages([\n",
    "    (\"system\", \"Você é um assistente útil.\"),\n",
    "    few_shot_chat_template,\n",
    "    (\"human\", \"{input}\")\n",
    "])\n",
    "\n",
    "# Preenchendo o template\n",
    "mensagens = final_template.format_messages(input=\"O que é um gene?\")\n",
    "print(mensagens)\n"
   ]
  },
  {
   "cell_type": "markdown",
   "metadata": {},
   "source": [
    "# Aula 3: Trabalhando com Output Parsers no LangChain\n",
    "## 1. O que são Output Parsers?\n",
    "\n",
    "Output Parsers são usados para transformar a saída bruta de um LLM em um formato mais estruturado e útil. Eles são especialmente úteis quando você precisa que a saída do modelo siga um padrão específico, como JSON, listas ou outros formatos.\n"
   ]
  },
  {
   "cell_type": "markdown",
   "metadata": {},
   "source": [
    "## 2. Tipos de Output Parsers\n",
    "\n"
   ]
  },
  {
   "cell_type": "markdown",
   "metadata": {},
   "source": [
    "### 2.1 `StructuredOutputParser`\n",
    "\n",
    "O `StructuredOutputParser` é usado para saídas estruturadas, como JSON. Ele permite que você defina um esquema para a saída."
   ]
  },
  {
   "cell_type": "code",
   "execution_count": null,
   "metadata": {},
   "outputs": [],
   "source": [
    "from langchain.llms import OpenAI\n",
    "from langchain.prompts import PromptTemplate\n",
    "from langchain.chains import LLMChain\n",
    "from langchain.output_parsers import StructuredOutputParser, ResponseSchema\n",
    "\n",
    "# Definindo o esquema da resposta\n",
    "response_schemas = [\n",
    "    ResponseSchema(name=\"conceito\", description=\"O conceito explicado.\"),\n",
    "    ResponseSchema(name=\"explicacao\", description=\"A explicação do conceito.\")\n",
    "]\n",
    "output_parser = StructuredOutputParser.from_response_schemas(response_schemas)\n",
    "\n",
    "# Criando um Prompt Template\n",
    "template = \"\"\"\n",
    "Explique o conceito de {conceito} em {nivel} palavras.\n",
    "{format_instructions}\n",
    "\"\"\"\n",
    "prompt = PromptTemplate(\n",
    "    input_variables=[\"conceito\", \"nivel\"],\n",
    "    template=template,\n",
    "    partial_variables={\"format_instructions\": output_parser.get_format_instructions()}\n",
    ")\n",
    "\n",
    "# Inicializando o LLM\n",
    "llm = OpenAI()\n",
    "\n",
    "# Criando a cadeia com StructuredOutputParser\n",
    "chain = LLMChain(llm=llm, prompt=prompt, output_parser=output_parser)\n",
    "\n",
    "# Executando a cadeia\n",
    "resposta = chain.run(conceito=\"inteligência artificial\", nivel=\"50\")\n",
    "print(resposta)"
   ]
  },
  {
   "cell_type": "markdown",
   "metadata": {},
   "source": [
    "# Aula 4: Trabalhando com SequentialChain no LangChain\n",
    "\n",
    "## 1. O que é SequentialChain?\n",
    "\n",
    "SequentialChain é uma cadeia que permite executar uma sequência de operações, onde a saída de uma etapa é passada como entrada para a próxima. Isso é útil quando você precisa realizar várias tarefas em sequência, como gerar texto, processar informações e tomar decisões com base nos resultados.\n",
    "\n",
    "---\n",
    "## 2. Como criar uma SequentialChain\n",
    "\n",
    "### 2.1 Criando chain's\n",
    "\n"
   ]
  },
  {
   "cell_type": "code",
   "execution_count": null,
   "metadata": {},
   "outputs": [],
   "source": [
    "from langchain.chains import SequentialChain\n",
    "from langchain.llms import OpenAI\n",
    "from langchain.prompts import PromptTemplate\n",
    "from langchain.chains import LLMChain\n",
    "\n",
    "# Inicializando o LLM\n",
    "llm = OpenAI()\n",
    "\n",
    "prompt = PromptTemplate.from_template(\n",
    "'''Texto de um idioma aleatório: {texto_idioma}.\n",
    "Retorne texto traduzido em português.'''\n",
    ")\n",
    "\n",
    "chain_texto = LLMChain(llm=llm, prompt=prompt, output_key='texto_pt')\n",
    "\n",
    "prompt_resumo = PromptTemplate.from_template(\n",
    "'''Dado o texto em português: {texto_pt}.\n",
    "Faça um resumo de até 50 palavras desse texto.'''\n",
    ")\n",
    "\n",
    "chain_resumo = LLMChain(llm=llm, prompt=prompt_resumo, output_key='texto_resumo')"
   ]
  },
  {
   "cell_type": "markdown",
   "metadata": {},
   "source": [
    "### 2.2 Criando Sequência ou Encadeamento"
   ]
  },
  {
   "cell_type": "code",
   "execution_count": null,
   "metadata": {},
   "outputs": [],
   "source": [
    "chain = SequentialChain(\n",
    "    chains=[chain_texto, chain_resumo],\n",
    "    input_variables=['texto_idioma'],\n",
    "    output_variables=['texto_pt', 'texto_resumo'],\n",
    "    verbose=True\n",
    ")\n",
    "texto = \"Le soleil se lève doucement sur la ville, illuminant les rues d'une lumière dorée. Les oiseaux chantent, \\\n",
    "annonçant le début d'une nouvelle journée. Les habitants sortent peu à peu de chez eux, prêts à affronter les défis qui les attendent.\\\n",
    "Dans l'air, on sent une énergie positive, comme si tout était possible. C'est le moment de croire en ses rêves et de saisir les opportunités qui se présentent.\"\n",
    "\n",
    "resposta = chain.invoke({'texto_idioma': texto})\n",
    "resposta"
   ]
  },
  {
   "cell_type": "markdown",
   "metadata": {},
   "source": [
    "#### Exemplo de Encadeamento Simples usando LLM diferentes:\n",
    "```python\n",
    "from langchain.llms import OpenAI\n",
    "from langchain.prompts import PromptTemplate\n",
    "from langchain.chains import LLMChain, SequentialChain\n",
    "\n",
    "# Inicializando os LLMs\n",
    "llm1 = OpenAI(api_key=\"sua_chave_api\", temperature=0.7)\n",
    "llm2 = OpenAI(api_key=\"sua_chave_api\", temperature=0.7)\n",
    "\n",
    "# Criando o primeiro Prompt Template\n",
    "template1 = \"Explique o conceito de {conceito}.\"\n",
    "prompt1 = PromptTemplate(\n",
    "    input_variables=[\"conceito\"],\n",
    "    template=template1\n",
    ")\n",
    "\n",
    "# Criando o segundo Prompt Template\n",
    "template2 = \"Agora, explique como {conceito} é aplicado em {area}.\"\n",
    "prompt2 = PromptTemplate(\n",
    "    input_variables=[\"conceito\", \"area\"],\n",
    "    template=template2\n",
    ")\n",
    "\n",
    "# Criando as cadeias\n",
    "chain1 = LLMChain(llm=llm1, prompt=prompt1, output_key=\"explicacao_conceito\")\n",
    "chain2 = LLMChain(llm=llm2, prompt=prompt2, output_key=\"aplicacao_conceito\")\n",
    "\n",
    "# Criando a SequentialChain\n",
    "sequential_chain = SequentialChain(\n",
    "    chains=[chain1, chain2],\n",
    "    input_variables=[\"conceito\", \"area\"],\n",
    "    output_variables=[\"explicacao_conceito\", \"aplicacao_conceito\"]\n",
    ")\n",
    "\n",
    "# Executando a SequentialChain\n",
    "resultado = sequential_chain({\"conceito\": \"inteligência artificial\", \"area\": \"medicina\"})\n",
    "print(\"Explicação do conceito:\", resultado[\"explicacao_conceito\"])\n",
    "print(\"Aplicação do conceito:\", resultado[\"aplicacao_conceito\"])"
   ]
  },
  {
   "cell_type": "markdown",
   "metadata": {},
   "source": [
    "### **Desafio - Chains**\n",
    "Crie as seguintes chains:\n",
    "\n",
    "1) Uma chain para pegar um nome completo de uma pessoa e converter em caixa alta\n",
    "2) Uma chain para criptografar\n",
    "3) Mostre resultado final"
   ]
  },
  {
   "cell_type": "markdown",
   "metadata": {},
   "source": [
    "# Aula 5: Trabalhando com Runnables no LangChain\n",
    "\n",
    "## 1. O que são Runnables?\n",
    "\n",
    "Runnables são componentes que podem ser encadeados para formar pipelines de processamento. Eles representam operações que consomem uma entrada e produzem uma saída, como:\n",
    "- Chamadas a LLMs.\n",
    "- Transformações de dados.\n",
    "- Combinações de resultados."
   ]
  },
  {
   "attachments": {
    "image-2.png": {
     "image/png": "[encoded data removed]"
    }
   },
   "cell_type": "markdown",
   "metadata": {},
   "source": [
    "## 2. RunnableParallel: Executando Tarefas em Paralelo\n",
    "\n",
    "O `RunnableParallel` permite executar múltiplos Runnables em paralelo e combinar seus resultados em um único dicionário.\n",
    "\n",
    "![image-2.png](attachment:image-2.png)"
   ]
  },
  {
   "cell_type": "code",
   "execution_count": null,
   "metadata": {},
   "outputs": [],
   "source": [
    "from langchain.llms import OpenAI\n",
    "from langchain.prompts import PromptTemplate\n",
    "from langchain.chains import LLMChain\n",
    "from langchain.schema.runnable import RunnableParallel\n",
    "\n",
    "# Inicializando o LLM\n",
    "llm = OpenAI()\n",
    "\n",
    "# Criando duas cadeias diferentes\n",
    "template_potencia = \"Quanto é {base} elevado ao quadrado?\"\n",
    "chain_potencia = LLMChain(llm=llm, prompt=PromptTemplate.from_template(template_potencia))\n",
    "\n",
    "template_raiz = \"Quanto é raiz quadrada de {raiz}?\"\n",
    "chain_raiz = LLMChain(llm=llm, prompt=PromptTemplate.from_template(template_raiz))\n",
    "\n",
    "# Combinando as cadeias em paralelo\n",
    "parallel_chain = RunnableParallel(\n",
    "    potencia=chain_potencia,\n",
    "    raiz=chain_raiz\n",
    ")\n",
    "\n",
    "# Executando\n",
    "resultado = parallel_chain.invoke({\"base\": \"2\", \"raiz\": \"4\"})\n",
    "print(\"potencia:\", resultado[\"potencia\"][\"text\"])\n",
    "print(\"raiz:\", resultado[\"raiz\"][\"text\"])"
   ]
  },
  {
   "cell_type": "markdown",
   "metadata": {},
   "source": [
    "### Utilizar resultado"
   ]
  },
  {
   "cell_type": "code",
   "execution_count": 61,
   "metadata": {},
   "outputs": [],
   "source": [
    "template_soma = \"Dado {num1} e {num2}, qual é a soma?\"\n",
    "prompt_soma = PromptTemplate.from_template(template_soma)\n",
    "\n",
    "parallel_chain = RunnableParallel(\n",
    "    num1= chain_potencia,\n",
    "    num2= chain_raiz\n",
    ")"
   ]
  },
  {
   "cell_type": "code",
   "execution_count": null,
   "metadata": {},
   "outputs": [],
   "source": [
    "chain_soma = LLMChain(llm=llm, prompt=prompt_soma, output_key=\"soma\")\n",
    "resultado = chain_soma.invoke(parallel_chain.invoke({\"base\": \"2\", \"raiz\": \"4\"}))\n",
    "resultado"
   ]
  },
  {
   "cell_type": "code",
   "execution_count": 59,
   "metadata": {},
   "outputs": [],
   "source": [
    "from langchain_core.output_parsers import StrOutputParser\n",
    "\n",
    "# outra forma\n",
    "chain = parallel_chain | prompt_soma | llm | StrOutputParser()\n",
    "resultado = chain.invoke({\"base\": \"2\", \"raiz\": \"4\"})"
   ]
  },
  {
   "cell_type": "code",
   "execution_count": null,
   "metadata": {},
   "outputs": [],
   "source": [
    "print(resultado)"
   ]
  },
  {
   "attachments": {
    "image.png": {
     "image/png": "[encoded data removed]"
    }
   },
   "cell_type": "markdown",
   "metadata": {},
   "source": [
    "### Faça esse exemplo \n",
    "\n",
    "![image.png](attachment:image.png)"
   ]
  },
  {
   "cell_type": "markdown",
   "metadata": {},
   "source": []
  },
  {
   "cell_type": "markdown",
   "metadata": {},
   "source": [
    "## 3. RunnablePassthrough: Passando Dados Através das Cadeias\n",
    "\n",
    "O `RunnablePassthrough` é usado para passar dados diretamente para a próxima etapa sem modificação. Pode ser combinado com outros Runnables para enriquecer o contexto."
   ]
  },
  {
   "cell_type": "code",
   "execution_count": null,
   "metadata": {},
   "outputs": [],
   "source": [
    "from langchain.schema.runnable import RunnablePassthrough\n",
    "from langchain.llms import OpenAI\n",
    "from langchain.prompts import PromptTemplate\n",
    "from langchain.chains import LLMChain\n",
    "\n",
    "# Inicializando o LLM\n",
    "llm = OpenAI()\n",
    "\n",
    "# Criando duas cadeias diferentes\n",
    "template_poema = \"Escreva um poema curto sobre {tema}.\"\n",
    "chain_poema = LLMChain(llm=llm, prompt=PromptTemplate.from_template(template_poema))\n",
    "\n",
    "\n",
    "# Criando uma cadeia que passa o tema e gera um poema\n",
    "chain = RunnablePassthrough() | {\n",
    "    \"tema\": RunnablePassthrough(),\n",
    "    \"poema\": chain_poema\n",
    "}\n",
    "\n",
    "# Executando\n",
    "resultado = chain.invoke(\"o sol\")\n",
    "print(\"Tema Original:\", resultado[\"tema\"])\n",
    "print(\"Poema:\", resultado[\"poema\"][\"text\"])"
   ]
  },
  {
   "cell_type": "markdown",
   "metadata": {},
   "source": [
    "## 4. RunnableLambda: Aplicando Funções Personalizadas\n",
    "\n",
    "O `RunnableLambda` permite aplicar funções Python personalizadas a entradas ou saídas."
   ]
  },
  {
   "cell_type": "code",
   "execution_count": null,
   "metadata": {},
   "outputs": [],
   "source": [
    "from langchain.schema.runnable import RunnableLambda\n",
    "from langchain.llms import OpenAI\n",
    "from langchain.prompts import PromptTemplate\n",
    "from langchain.chains import LLMChain\n",
    "\n",
    "# Inicializando o LLM\n",
    "llm = OpenAI()\n",
    "\n",
    "# Criando duas cadeias diferentes\n",
    "template_poema = \"Escreva um poema curto sobre {tema}.\"\n",
    "chain_poema = LLMChain(llm=llm, prompt=PromptTemplate.from_template(template_poema),output_key=\"poema\")\n",
    "\n",
    "# Função para contar palavras\n",
    "def contar_palavras(texto: str) -> int:\n",
    "    return len(texto['poema'].split())\n",
    "# Criando uma cadeia que gera um poema e conta suas palavras\n",
    "# Criando uma cadeia que gera um poema e conta suas palavras\n",
    "chain = chain_poema | RunnableLambda(contar_palavras)\n",
    "\n",
    "# Executando\n",
    "numero_palavras = chain.invoke({\"tema\": \"a lua\"})\n",
    "print(\"Número de palavras:\", numero_palavras)\n"
   ]
  },
  {
   "attachments": {
    "image.png": {
     "image/png": "[encoded data removed]"
    }
   },
   "cell_type": "markdown",
   "metadata": {},
   "source": [
    "# Aula 6: Roteamento no LangChain\n",
    "\n",
    "## 1. O que é Roteamento?\n",
    "\n",
    "Roteamento é o processo de direcionar uma entrada para um componente específico (como uma cadeia ou prompt) com base em critérios definidos. É útil para:\n",
    "- Escolher entre diferentes especialistas/prompts.\n",
    "- Filtrar entradas para processamento específico.\n",
    "- Criar sistemas modulares e adaptativos.\n",
    "\n",
    "![image.png](attachment:image.png)"
   ]
  },
  {
   "cell_type": "markdown",
   "metadata": {},
   "source": [
    "### Passo 1. Criando as Branchs "
   ]
  },
  {
   "cell_type": "code",
   "execution_count": 140,
   "metadata": {},
   "outputs": [],
   "source": [
    "from langchain_openai import ChatOpenAI\n",
    "from langchain_core.prompts import ChatPromptTemplate\n",
    "\n",
    "model = ChatOpenAI()\n",
    "\n",
    "prompt = ChatPromptTemplate.from_template('''Você é um professor de matemática de ensino fundamental capaz de dar respostas muito detalhadas e didáticas. Responda a seguinte pergunta de um aluno:\n",
    "Pergunta: {pergunta}''')\n",
    "chain_matematica = prompt | model\n",
    "\n",
    "prompt = ChatPromptTemplate.from_template('''Você é um professor de física de ensino fundamental capaz de dar respostas muito detalhadas e didáticas. Responda a seguinte pergunta de um aluno:\n",
    "Pergunta: {pergunta}''')\n",
    "chain_fisica = prompt | model\n",
    "\n",
    "prompt = ChatPromptTemplate.from_template('''Você é um professor de história de ensino fundamental capaz de dar respostas muito detalhadas e didáticas. Responda a seguinte pergunta de um aluno:\n",
    "Pergunta: {pergunta}''')\n",
    "chain_historia = prompt | model\n",
    "\n",
    "prompt = ChatPromptTemplate.from_template('''Pergunta: {pergunta}''')\n",
    "chain_generica = prompt | model\n",
    "\n",
    "\n"
   ]
  },
  {
   "cell_type": "markdown",
   "metadata": {},
   "source": [
    "### Passo 2. Criando categorizador"
   ]
  },
  {
   "cell_type": "code",
   "execution_count": 141,
   "metadata": {},
   "outputs": [],
   "source": [
    "from pydantic import BaseModel, Field\n",
    "\n",
    "class Categorizador(BaseModel):\n",
    "    \"\"\"Categoriza as perguntas de alunos do ensino fundamental\"\"\"\n",
    "    area_conhecimento: str = Field(description=\"A área de conhecimento da pergunta feita pelo aluno. \\\n",
    "Deve ser 'física', 'matemática' ou 'história'. Caso não se encaixe em nenhuma delas, retorne 'outra'\")\n"
   ]
  },
  {
   "cell_type": "code",
   "execution_count": null,
   "metadata": {},
   "outputs": [],
   "source": [
    "prompt = ChatPromptTemplate.from_template('Voce deve categorizar a seguinte pergunta: {pergunta}')\n",
    "\n",
    "model_estruturado = prompt| model.with_structured_output(Categorizador)\n",
    "model_estruturado.invoke({'pergunta': 'Quem foi o primeiro presidente do Brasil?'} )"
   ]
  },
  {
   "cell_type": "markdown",
   "metadata": {},
   "source": [
    "### Passo 3. Estrutura de Roteamento"
   ]
  },
  {
   "cell_type": "code",
   "execution_count": null,
   "metadata": {},
   "outputs": [],
   "source": [
    "from langchain_core.runnables import RunnablePassthrough\n",
    "\n",
    "chain = RunnablePassthrough() | {\n",
    "    'pergunta' : RunnablePassthrough(),\n",
    "    'categoria' : model_estruturado\n",
    "}\n",
    "\n",
    "chain.invoke({'pergunta': 'Quando foi a independência dos estados unidos?'})\n"
   ]
  },
  {
   "cell_type": "markdown",
   "metadata": {},
   "source": [
    "### Passo 3.1. Roteador"
   ]
  },
  {
   "cell_type": "code",
   "execution_count": 147,
   "metadata": {},
   "outputs": [],
   "source": [
    "def route(input):\n",
    "    if input['categoria'].area_conhecimento == 'matemática':\n",
    "        return chain_matematica\n",
    "    if input['categoria'].area_conhecimento == 'física':\n",
    "        return chain_fisica\n",
    "    if input['categoria'].area_conhecimento == 'história':\n",
    "        return chain_historia\n",
    "    return chain_generica\n"
   ]
  },
  {
   "cell_type": "markdown",
   "metadata": {},
   "source": [
    "### Passo 4. Executar"
   ]
  },
  {
   "cell_type": "code",
   "execution_count": null,
   "metadata": {},
   "outputs": [],
   "source": [
    "chain = RunnablePassthrough() | {\n",
    "    'pergunta' : RunnablePassthrough(),\n",
    "    'categoria' : model_estruturado,\n",
    "} | RunnableLambda(route)\n",
    "\n",
    "response = chain.invoke({'pergunta': 'Quando foi a independência dos estados unidos?'})\n",
    "response.content"
   ]
  },
  {
   "cell_type": "code",
   "execution_count": null,
   "metadata": {},
   "outputs": [],
   "source": [
    "chain = RunnableParallel(\n",
    "    pergunta= RunnablePassthrough(),\n",
    "    categoria= model_estruturado,\n",
    "    \n",
    ") | route\n",
    "\n",
    "response = chain.invoke({'pergunta': 'Quando foi a independência dos estados unidos?'})\n",
    "response\n"
   ]
  }
 ],
 "metadata": {
  "kernelspec": {
   "display_name": "Python 3",
   "language": "python",
   "name": "python3"
  },
  "language_info": {
   "codemirror_mode": {
    "name": "ipython",
    "version": 3
   },
   "file_extension": ".py",
   "mimetype": "text/x-python",
   "name": "python",
   "nbconvert_exporter": "python",
   "pygments_lexer": "ipython3",
   "version": "3.10.12"
  }
 },
 "nbformat": 4,
 "nbformat_minor": 2
}
