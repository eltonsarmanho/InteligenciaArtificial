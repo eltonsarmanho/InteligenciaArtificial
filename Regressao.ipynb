{
 "cells": [
  {
   "cell_type": "markdown",
   "metadata": {},
   "source": [
    "### Passo 1: Carregar um Dataset de Regressão\n",
    "Vamos usar o *California Housing* como dataset.\n",
    "\n",
    "#### Código: Carregando e Explorando o Dataset"
   ]
  },
  {
   "cell_type": "code",
   "execution_count": null,
   "metadata": {},
   "outputs": [],
   "source": [
    "import pandas as pd\n",
    "import numpy as np\n",
    "from sklearn.datasets import fetch_california_housing\n",
    "from sklearn.preprocessing import StandardScaler\n",
    "# Carregar o dataset California Housing\n",
    "data = fetch_california_housing(as_frame=True)\n",
    "\n",
    "# Extrair os dados e organizar em um DataFrame\n",
    "df = data.frame\n",
    "print(\"Descrição do Dataset:\")\n",
    "print(data.DESCR)\n",
    "\n",
    "# Visualizar as primeiras linhas do dataset\n",
    "print(\"\\nVisualização inicial do dataset:\")\n",
    "print(df.head())\n",
    "\n",
    "# Estatísticas descritivas do dataset\n",
    "print(\"\\nEstatísticas descritivas:\")\n",
    "print(df.describe())"
   ]
  },
  {
   "cell_type": "markdown",
   "metadata": {},
   "source": [
    "### 1. Limpar e preparar os dados (tratar valores nulos ou escalonar variáveis).\n"
   ]
  },
  {
   "cell_type": "code",
   "execution_count": 13,
   "metadata": {},
   "outputs": [],
   "source": [
    "# Verificar valores nulos\n",
    "missing_values = df.isnull().sum()\n",
    "\n",
    "# Escalonar variáveis (StandardScaler)\n",
    "scaler = StandardScaler()\n",
    "scaled_features = scaler.fit_transform(df.drop(columns=[\"MedHouseVal\"]))  # Exclui a variável alvo\n",
    "scaled_df = pd.DataFrame(scaled_features, columns=df.columns[:-1])  # Mantém os nomes das colunas\n",
    "scaled_df[\"MedHouseVal\"] = df[\"MedHouseVal\"]  # Reanexa a variável alvo\n",
    "\n",
    "# Resumo após escalonamento\n",
    "summary = scaled_df.describe()"
   ]
  },
  {
   "cell_type": "markdown",
   "metadata": {},
   "source": [
    "### 2. Dividir os dados em treino e teste.\n"
   ]
  },
  {
   "cell_type": "code",
   "execution_count": 14,
   "metadata": {},
   "outputs": [],
   "source": [
    "from sklearn.model_selection import train_test_split\n",
    "\n",
    "# Dividir os dados em treino e teste (80% treino, 20% teste)\n",
    "X = scaled_df.drop(columns=[\"MedHouseVal\"])  # Variáveis independentes\n",
    "y = scaled_df[\"MedHouseVal\"]  # Variável dependente (target)\n",
    "\n",
    "X_train, X_test, y_train, y_test = train_test_split(\n",
    "    X, y, test_size=0.2, random_state=42\n",
    ")\n"
   ]
  },
  {
   "cell_type": "markdown",
   "metadata": {},
   "source": [
    "### 3. Ajustar um modelo de regressão linear.\n"
   ]
  },
  {
   "cell_type": "code",
   "execution_count": 15,
   "metadata": {},
   "outputs": [],
   "source": [
    "from sklearn.linear_model import LinearRegression\n",
    "# Ajustar o modelo de regressão linear ao dataset sintético\n",
    "model = LinearRegression()\n",
    "model.fit(X_train, y_train)\n",
    "\n",
    "# Fazer previsões no conjunto de teste\n",
    "y_pred = model.predict(X_test)"
   ]
  },
  {
   "cell_type": "markdown",
   "metadata": {},
   "source": [
    "### 4. Avaliar a performance usando métricas como MSE e \\( R^2 \\).\n"
   ]
  },
  {
   "cell_type": "code",
   "execution_count": 16,
   "metadata": {},
   "outputs": [],
   "source": [
    "from sklearn.metrics import mean_squared_error, r2_score\n",
    "\n",
    "# Avaliar o modelo\n",
    "mse = mean_squared_error(y_test, y_pred)\n",
    "r2 = r2_score(y_test, y_pred)\n",
    "\n",
    "# Resultados do modelo\n",
    "model_coefficients = pd.DataFrame(\n",
    "    {\"Feature\": [f\"Feature_{i}\" for i in range(1, X.shape[1] + 1)], \"Coefficient\": model.coef_}\n",
    ")\n",
    "\n",
    "results = {\n",
    "    \"Intercept\": model.intercept_,\n",
    "    \"Mean Squared Error\": mse,\n",
    "    \"R-squared\": r2\n",
    "}"
   ]
  },
  {
   "cell_type": "code",
   "execution_count": null,
   "metadata": {},
   "outputs": [],
   "source": [
    "model_coefficients"
   ]
  },
  {
   "cell_type": "code",
   "execution_count": null,
   "metadata": {},
   "outputs": [],
   "source": [
    "results"
   ]
  }
 ],
 "metadata": {
  "kernelspec": {
   "display_name": "base",
   "language": "python",
   "name": "python3"
  },
  "language_info": {
   "codemirror_mode": {
    "name": "ipython",
    "version": 3
   },
   "file_extension": ".py",
   "mimetype": "text/x-python",
   "name": "python",
   "nbconvert_exporter": "python",
   "pygments_lexer": "ipython3",
   "version": "3.11.7"
  }
 },
 "nbformat": 4,
 "nbformat_minor": 2
}
