{
 "cells": [
  {
   "cell_type": "markdown",
   "metadata": {},
   "source": [
    "## **Exemplo 1: Sistema Fuzzy Simples para Controle de Velocidade de um Ventilador**\n",
    "\n",
    "### **Problema:**\n",
    "Vamos criar um sistema fuzzy para controlar a velocidade de um ventilador com base na temperatura e umidade do ambiente."
   ]
  },
  {
   "cell_type": "markdown",
   "metadata": {},
   "source": [
    "### **Passo 1: Instalar a biblioteca `scikit-fuzzy`**\n",
    "Se você ainda não tem a biblioteca instalada, execute o seguinte comando:"
   ]
  },
  {
   "cell_type": "code",
   "execution_count": null,
   "metadata": {},
   "outputs": [],
   "source": [
    "pip install scikit-fuzzy matplotlib"
   ]
  },
  {
   "cell_type": "markdown",
   "metadata": {},
   "source": [
    "### **Passo 2: Importar as bibliotecas necessárias**"
   ]
  },
  {
   "cell_type": "code",
   "execution_count": 2,
   "metadata": {},
   "outputs": [],
   "source": [
    "import numpy as np\n",
    "import skfuzzy as fuzz\n",
    "from skfuzzy import control as ctrl\n",
    "import matplotlib.pyplot as plt"
   ]
  },
  {
   "cell_type": "markdown",
   "metadata": {},
   "source": [
    "### **Passo 3: Definir as variáveis fuzzy**\n",
    "\n",
    "\n",
    "1. **Antecedentes (Entradas):**\n",
    "   - Temperatura: 0 a 40 graus Celsius.\n",
    "   - Umidade: 0% a 100%.\n",
    "\n",
    "2. **Consequente (Saída):**\n",
    "   - Velocidade do ventilador: 0% a 100%."
   ]
  },
  {
   "cell_type": "code",
   "execution_count": 3,
   "metadata": {},
   "outputs": [],
   "source": [
    "# Antecedentes (Entradas)\n",
    "temperatura = ctrl.Antecedent(np.arange(0, 41, 1), 'temperatura')\n",
    "umidade = ctrl.Antecedent(np.arange(0, 101, 1), 'umidade')\n",
    "\n",
    "# Consequente (Saída)\n",
    "velocidade = ctrl.Consequent(np.arange(0, 101, 1), 'velocidade')"
   ]
  },
  {
   "cell_type": "markdown",
   "metadata": {},
   "source": [
    "### **Passo 4: Definir as funções de pertinência**"
   ]
  },
  {
   "cell_type": "code",
   "execution_count": 4,
   "metadata": {},
   "outputs": [],
   "source": [
    "# Funções de pertinência para Temperatura\n",
    "temperatura['fria'] = fuzz.trimf(temperatura.universe, [0, 10, 20])\n",
    "temperatura['morna'] = fuzz.trimf(temperatura.universe, [10, 20, 30])\n",
    "temperatura['quente'] = fuzz.trimf(temperatura.universe, [20, 30, 40])\n",
    "\n",
    "# Funções de pertinência para Umidade\n",
    "umidade['baixa'] = fuzz.trimf(umidade.universe, [0, 30, 50])\n",
    "umidade['media'] = fuzz.trimf(umidade.universe, [30, 50, 70])\n",
    "umidade['alta'] = fuzz.trimf(umidade.universe, [50, 70, 100])\n",
    "\n",
    "# Funções de pertinência para Velocidade\n",
    "velocidade['lenta'] = fuzz.trimf(velocidade.universe, [0, 30, 50])\n",
    "velocidade['media'] = fuzz.trimf(velocidade.universe, [30, 50, 70])\n",
    "velocidade['rapida'] = fuzz.trimf(velocidade.universe, [50, 70, 100])"
   ]
  },
  {
   "cell_type": "markdown",
   "metadata": {},
   "source": [
    "### **Passo 5: Visualizar as funções de pertinência**"
   ]
  },
  {
   "cell_type": "code",
   "execution_count": null,
   "metadata": {},
   "outputs": [],
   "source": [
    "# Visualizar as funções de pertinência\n",
    "temperatura.view()\n",
    "umidade.view()\n",
    "velocidade.view()\n",
    "plt.show()"
   ]
  },
  {
   "cell_type": "markdown",
   "metadata": {},
   "source": [
    "### **Passo 6: Criar as regras fuzzy**"
   ]
  },
  {
   "cell_type": "code",
   "execution_count": 6,
   "metadata": {},
   "outputs": [],
   "source": [
    "regra1 = ctrl.Rule(temperatura['fria'] & umidade['baixa'], velocidade['lenta'])\n",
    "regra2 = ctrl.Rule(temperatura['morna'] & umidade['media'], velocidade['media'])\n",
    "regra3 = ctrl.Rule(temperatura['quente'] & umidade['alta'], velocidade['rapida'])"
   ]
  },
  {
   "cell_type": "markdown",
   "metadata": {},
   "source": [
    "### **Passo 7: Criar o sistema de controle fuzzy**"
   ]
  },
  {
   "cell_type": "code",
   "execution_count": 7,
   "metadata": {},
   "outputs": [],
   "source": [
    "sistema_controle = ctrl.ControlSystem([regra1, regra2, regra3])\n",
    "sistema = ctrl.ControlSystemSimulation(sistema_controle)"
   ]
  },
  {
   "cell_type": "markdown",
   "metadata": {},
   "source": [
    "### **Passo 8: Simular o sistema com entradas específicas**"
   ]
  },
  {
   "cell_type": "code",
   "execution_count": 9,
   "metadata": {},
   "outputs": [],
   "source": [
    "# Definir entradas\n",
    "sistema.input['temperatura'] = 25\n",
    "sistema.input['umidade'] = 60\n",
    "\n",
    "# Computar o sistema\n",
    "sistema.compute()"
   ]
  },
  {
   "cell_type": "markdown",
   "metadata": {},
   "source": [
    "### **Passo 9: Obter e visualizar a saída**"
   ]
  },
  {
   "cell_type": "code",
   "execution_count": null,
   "metadata": {},
   "outputs": [],
   "source": [
    "# Saída (velocidade do ventilador)\n",
    "print(f\"Velocidade do ventilador: {sistema.output['velocidade']:.2f}%\")\n",
    "\n",
    "# Visualizar o resultado\n",
    "velocidade.view(sim=sistema)\n",
    "plt.show()"
   ]
  },
  {
   "cell_type": "markdown",
   "metadata": {},
   "source": [
    "#### **Interpretação:**\n",
    "- **\"Velocidade do ventilador: 63.84%\"**:\n",
    "  - Indica que, com as entradas fornecidas (temperatura e umidade), o sistema fuzzy calculou que a velocidade ideal do ventilador é **63.84%**.\n",
    "\n",
    "- **Eixo X (velocidade):**\n",
    "  - Representa a velocidade do ventilador, variando de **0% a 100%**.\n",
    "\n",
    "- **Eixo Y (Membership):**\n",
    "  - Representa o **grau de pertinência** (entre 0 e 1) da velocidade em cada categoria fuzzy: \"lenta\", \"média\" e \"rápida\".\n",
    "\n",
    "- **Curvas de Pertinência:**\n",
    "  - **\"Lenta\":** Pertinência mais alta para velocidades baixas (0% a 50%).\n",
    "  - **\"Média\":** Pertinência mais alta para velocidades intermediárias (30% a 70%).\n",
    "  - **\"Rápida\":** Pertinência mais alta para velocidades altas (50% a 100%).\n",
    "\n",
    "- **Linha Vertical em 63.84%:**\n",
    "  - Mostra o ponto onde a velocidade calculada (63.84%) se encaixa nas categorias fuzzy.\n",
    "  - Nesse caso, a velocidade está mais próxima da categoria **\"rápida\"**, mas ainda com uma influência significativa da categoria **\"média\"**.\n",
    "\n",
    "- O sistema fuzzy determinou que, dadas as condições de temperatura e umidade, a velocidade ideal do ventilador é **63.84%**.\n",
    "- Isso significa que o ventilador deve operar em uma velocidade **moderadamente alta**, quase atingindo a categoria \"rápida\".\n",
    "- A pertinência da velocidade em cada categoria mostra que:\n",
    "  - A categoria **\"rápida\"** tem a maior influência.\n",
    "  - A categoria **\"média\"** ainda tem uma influência considerável.\n",
    "  - A categoria **\"lenta\"** tem pouca ou nenhuma influência.\n",
    "\n",
    "\n",
    "#### **Conclusão:**\n",
    "O sistema fuzzy está funcionando corretamente, ajustando a velocidade do ventilador de forma suave e contínua. O valor de **63.84%** indica que o ventilador deve operar em uma velocidade mais alta, mas ainda dentro de uma faixa segura e eficiente.\n",
    "\n"
   ]
  },
  {
   "cell_type": "markdown",
   "metadata": {},
   "source": [
    "\n",
    "---\n",
    "\n",
    "## **Exemplo 2: Sistema Fuzzy para Estacionamento de Carro**\n",
    "\n",
    "### **Problema:**\n",
    "Vamos criar um sistema fuzzy para ajudar um carro a estacionar com base na distância da parede e no ângulo de direção."
   ]
  },
  {
   "cell_type": "markdown",
   "metadata": {},
   "source": [
    "### **Passo 1: Definir as variáveis fuzzy**"
   ]
  },
  {
   "cell_type": "code",
   "execution_count": 11,
   "metadata": {},
   "outputs": [],
   "source": [
    "# Antecedentes (Entradas)\n",
    "distancia = ctrl.Antecedent(np.arange(0, 101, 1), 'distancia')\n",
    "angulo = ctrl.Antecedent(np.arange(-90, 91, 1), 'angulo')\n",
    "\n",
    "# Consequente (Saída)\n",
    "direcao = ctrl.Consequent(np.arange(-50, 51, 1), 'direcao')"
   ]
  },
  {
   "cell_type": "markdown",
   "metadata": {},
   "source": [
    "### **Passo 2: Definir as funções de pertinência**"
   ]
  },
  {
   "cell_type": "code",
   "execution_count": 12,
   "metadata": {},
   "outputs": [],
   "source": [
    "# Funções de pertinência para Distância\n",
    "distancia['perto'] = fuzz.trimf(distancia.universe, [0, 0, 50])\n",
    "distancia['medio'] = fuzz.trimf(distancia.universe, [0, 50, 100])\n",
    "distancia['longe'] = fuzz.trimf(distancia.universe, [50, 100, 100])\n",
    "\n",
    "# Funções de pertinência para Ângulo\n",
    "angulo['esquerda'] = fuzz.trimf(angulo.universe, [-90, -90, 0])\n",
    "angulo['centro'] = fuzz.trimf(angulo.universe, [-45, 0, 45])\n",
    "angulo['direita'] = fuzz.trimf(angulo.universe, [0, 90, 90])\n",
    "\n",
    "# Funções de pertinência para Direção\n",
    "direcao['esquerda'] = fuzz.trimf(direcao.universe, [-50, -50, 0])\n",
    "direcao['centro'] = fuzz.trimf(direcao.universe, [-25, 0, 25])\n",
    "direcao['direita'] = fuzz.trimf(direcao.universe, [0, 50, 50])"
   ]
  },
  {
   "cell_type": "markdown",
   "metadata": {},
   "source": [
    "### **Passo 3: Criar as regras fuzzy**"
   ]
  },
  {
   "cell_type": "code",
   "execution_count": 13,
   "metadata": {},
   "outputs": [],
   "source": [
    "# Regras fuzzy\n",
    "regra1 = ctrl.Rule(distancia['perto'] & angulo['esquerda'], direcao['direita'])\n",
    "regra2 = ctrl.Rule(distancia['medio'] & angulo['centro'], direcao['centro'])\n",
    "regra3 = ctrl.Rule(distancia['longe'] & angulo['direita'], direcao['esquerda'])"
   ]
  },
  {
   "cell_type": "markdown",
   "metadata": {},
   "source": [
    "### **Passo 4: Simular o sistema**"
   ]
  },
  {
   "cell_type": "code",
   "execution_count": null,
   "metadata": {},
   "outputs": [],
   "source": [
    "sistema_controle = ctrl.ControlSystem([regra1, regra2, regra3])\n",
    "sistema = ctrl.ControlSystemSimulation(sistema_controle)\n",
    "\n",
    "# Definir entradas\n",
    "sistema.input['distancia'] = 30\n",
    "sistema.input['angulo'] = -30\n",
    "\n",
    "# Computar o sistema\n",
    "sistema.compute()\n",
    "\n",
    "# Saída (direção)\n",
    "print(f\"Direção do carro: {sistema.output['direcao']:.2f} graus\")\n",
    "\n",
    "# Visualizar o resultado\n",
    "direcao.view(sim=sistema)\n",
    "plt.show()"
   ]
  },
  {
   "cell_type": "markdown",
   "metadata": {},
   "source": [
    "#### **Interpretação:**\n",
    "\n",
    "- **\"Direção do carro: 14.54 graus\"**:\n",
    "  - Indica que, com as entradas fornecidas (distância da parede e ângulo de direção), o sistema fuzzy calculou que o carro deve ajustar sua direção em **14.54 graus**.\n",
    "\n",
    "- **Eixo X (direção):**\n",
    "  - Representa a direção do carro, variando de **-50 graus (esquerda)** a **50 graus (direita)**.\n",
    "\n",
    "- **Eixo Y (Membership):**\n",
    "  - Representa o **grau de pertinência** (entre 0 e 1) da direção em cada categoria fuzzy: \"esquerda\", \"centro\" e \"direita\".\n",
    "\n",
    "- **Curvas de Pertinência:**\n",
    "  - **\"Esquerda\":** Pertinência mais alta para direções negativas (esquerda).\n",
    "  - **\"Centro\":** Pertinência mais alta para direções próximas de zero (centro).\n",
    "  - **\"Direita\":** Pertinência mais alta para direções positivas (direita).\n",
    "\n",
    "- **Linha Vertical em 14.54 graus:**\n",
    "  - Mostra o ponto onde a direção calculada (14.54 graus) se encaixa nas categorias fuzzy.\n",
    "  - Nesse caso, a direção está mais próxima da categoria **\"direita\"**, mas ainda com uma influência significativa da categoria **\"centro\"**.\n",
    "\n",
    "- O sistema fuzzy determinou que, dadas as condições de distância da parede e ângulo de direção, o carro deve ajustar sua direção em **14.54 graus para a direita**.\n",
    "- Isso significa que o carro deve fazer uma correção **moderada** para a direita para se alinhar corretamente.\n",
    "- A pertinência da direção em cada categoria mostra que:\n",
    "  - A categoria **\"direita\"** tem a maior influência.\n",
    "  - A categoria **\"centro\"** ainda tem uma influência considerável.\n",
    "  - A categoria **\"esquerda\"** tem pouca ou nenhuma influência.\n"
   ]
  }
 ],
 "metadata": {
  "kernelspec": {
   "display_name": "env",
   "language": "python",
   "name": "python3"
  },
  "language_info": {
   "codemirror_mode": {
    "name": "ipython",
    "version": 3
   },
   "file_extension": ".py",
   "mimetype": "text/x-python",
   "name": "python",
   "nbconvert_exporter": "python",
   "pygments_lexer": "ipython3",
   "version": "3.12.4"
  }
 },
 "nbformat": 4,
 "nbformat_minor": 2
}
